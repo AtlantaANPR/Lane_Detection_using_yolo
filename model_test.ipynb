{
 "cells": [
  {
   "cell_type": "code",
   "execution_count": 5,
   "id": "ef52da2b",
   "metadata": {},
   "outputs": [
    {
     "name": "stdout",
     "output_type": "stream",
     "text": [
      "\n",
      "0: 448x640 3 lanes, 4.2ms\n",
      "Speed: 1.3ms preprocess, 4.2ms inference, 1.1ms postprocess per image at shape (1, 3, 448, 640)\n",
      "✓ Result saved to: output/demo_1.jpeg\n"
     ]
    }
   ],
   "source": [
    "import os\n",
    "import cv2\n",
    "import numpy as np\n",
    "from pathlib import Path\n",
    "from ultralytics import YOLO\n",
    "\n",
    "# === CONFIG ===\n",
    "model_path = \"runs/segment/Lane_V1/weights/best.pt\"  # Path to your trained model\n",
    "image_path = \"test_images/demo.jpeg\"           # Path to test image\n",
    "output_path = \"output/demo_1.jpeg\"    # Save path\n",
    "\n",
    "# === Load model ===\n",
    "model = YOLO(model_path)  # Load your YOLOv8/v11 segmentation model\n",
    "\n",
    "# === Load image ===\n",
    "img = cv2.imread(image_path)\n",
    "if img is None:\n",
    "    raise FileNotFoundError(f\"Image not found at {image_path}\")\n",
    "img_rgb = cv2.cvtColor(img, cv2.COLOR_BGR2RGB)\n",
    "\n",
    "# === Inference ===\n",
    "results = model(img_rgb)[0]  # Inference on single image\n",
    "\n",
    "# === Alpha blending setup ===\n",
    "overlay = img.copy()\n",
    "alpha = 0.5  # Transparency of mask overlays\n",
    "mask_color = (0, 255, 0)  # Green mask\n",
    "\n",
    "# === Resize and blend masks ===\n",
    "if results.masks is not None:\n",
    "    masks = results.masks.data.cpu().numpy()  # Shape: [N, H_mask, W_mask]\n",
    "    orig_h, orig_w = img.shape[:2]\n",
    "\n",
    "    for mask in masks:\n",
    "        # Resize the mask to the original image size\n",
    "        mask_resized = cv2.resize((mask * 255).astype(np.uint8), (orig_w, orig_h))\n",
    "\n",
    "        # Create a color mask\n",
    "        color_mask = np.zeros_like(img, dtype=np.uint8)\n",
    "        color_mask[:, :, 1] = mask_resized  # Green channel\n",
    "\n",
    "        # Blend with original image\n",
    "        overlay = cv2.addWeighted(overlay, 1, color_mask, alpha, 0)\n",
    "\n",
    "# === Final result ===\n",
    "img_result = overlay\n",
    "\n",
    "# === Save result ===\n",
    "os.makedirs(Path(output_path).parent, exist_ok=True)\n",
    "cv2.imwrite(output_path, img_result)\n",
    "print(f\"✓ Result saved to: {output_path}\")\n"
   ]
  },
  {
   "cell_type": "code",
   "execution_count": null,
   "id": "bd950eec",
   "metadata": {},
   "outputs": [],
   "source": []
  }
 ],
 "metadata": {
  "kernelspec": {
   "display_name": "Custom_train",
   "language": "python",
   "name": "python3"
  },
  "language_info": {
   "codemirror_mode": {
    "name": "ipython",
    "version": 3
   },
   "file_extension": ".py",
   "mimetype": "text/x-python",
   "name": "python",
   "nbconvert_exporter": "python",
   "pygments_lexer": "ipython3",
   "version": "3.10.18"
  }
 },
 "nbformat": 4,
 "nbformat_minor": 5
}
